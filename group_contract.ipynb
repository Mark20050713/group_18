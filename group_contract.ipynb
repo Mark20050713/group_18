{
 "cells": [
  {
   "cell_type": "markdown",
   "id": "1f50bab7-71d0-4e88-865b-d99d22bede6e",
   "metadata": {},
   "source": [
    "# Group Contract\n",
    "## GOALS\n",
    "What are our team goals for this project? What do we want to accomplish?\n",
    "* We want to apply our knowledge that we learned in class to a real world application where we can analyze a data set successfully to answer a question!\n",
    "* Using our manipulation of the data set to analyze the situation posted and draw conclusions/make predictions about that matter.\n",
    "\n",
    "What skills do we want to develop or refine?\n",
    "* Practice formulating our own questions\n",
    "* Use the functions to manipulate and visualize data\n",
    "* Make observations based on our analyses\n",
    "\n",
    "## EXPECTATIONS:\n",
    "What do we expect of one another regarding attendance at meetings, participation, frequency of communication, quality of work, etc.?\n",
    "* Frequently checking and providing updates on GitHub Issues that are specific to the project\n",
    "* Communicating regularly through our Instagram group chat for logistic matters\n",
    "* Schedule weekly progress meetings to review the status of our tasks and discuss ideas\n",
    "* Attend all meetings on time\n",
    "* Communicate with group members as soon as possible when things do not go as planned\n",
    "* Be accountable for completing one’s own work and reach out when you need help\n",
    "* Be polite, kind, and encouraging!\n",
    "\n",
    "## POLICIES & PROCEDURES:\n",
    "What rules can we agree on to help us meet our goals and expectations?\n",
    "* We must do our assigned part of the work\n",
    "* We must respect soft deadlines\n",
    "\n",
    "## CONSEQUENCES:\n",
    "How will we address non-performance regarding these goals, expectations, policies and procedures?\n",
    "* Our team will implement a two-strike policy accompanied by detailed explanations on why violating a specific ground rule is unacceptable. For instance, if a team member fails to respond in time, we will clarify how it disrupts our group cohesion and impedes progress on the assignment by talking within our group. Subsequently, the team member will have an opportunity to justify their actions, and it will be left to the group to determine the validity of their explanation.\n",
    "* Upon receiving a second strike, we could perhaps escalate the matter to the teaching assistant or professor.\n",
    "\n",
    "### Each member should \"sign\" (you can just type out your name) at the bottom of the submission.\n",
    "Brooklyn Wang \\\n",
    "Mahir Patel \\\n",
    "Ashmit Ghai \\\n",
    "Mark Cao\n"
   ]
  }
 ],
 "metadata": {
  "kernelspec": {
   "display_name": "R",
   "language": "R",
   "name": "ir"
  },
  "language_info": {
   "codemirror_mode": "r",
   "file_extension": ".r",
   "mimetype": "text/x-r-source",
   "name": "R",
   "pygments_lexer": "r",
   "version": "4.3.1"
  }
 },
 "nbformat": 4,
 "nbformat_minor": 5
}
