{
 "cells": [
  {
   "cell_type": "markdown",
   "id": "865383c1-3e42-4920-95e5-26e92852ec22",
   "metadata": {},
   "source": [
    "# DSCI 100 Group Project Proposal\n",
    "Group 18: Brooklyn Wang, Mahir Patel, Ashmit Ghai, Mark Cao"
   ]
  },
  {
   "cell_type": "markdown",
   "id": "7f9bed2d-782b-47d2-83c1-e74e2b77830a",
   "metadata": {
    "jp-MarkdownHeadingCollapsed": true
   },
   "source": [
    "### Introduction:\n",
    "In this project, we are aiming to apply the use of classification and regression for predicting the outcomes of real-life datasets. In our project, we will be conducting a classification problem.\n",
    "This data contains different features, such as size, form, shape and structure for seven different species of beans.\n",
    "With this dataset, we are trying to identify the feature(s) with the most apparent and direct relationships to the types of beans they correspond to, and trying to build a classifer from those features to predict types of beans from its various features."
   ]
  },
  {
   "cell_type": "markdown",
   "id": "141db47f-7edf-4935-a879-ff6fc5cc6aea",
   "metadata": {},
   "source": [
    "### Preliminary exploratory data analysis:\n",
    "1. Demonstrate that the dataset can be read from the web into R \n",
    "2. Clean and wrangle your data into a tidy format\n",
    "3. Using only training data, summarize the data in at least one table (this is exploratory data analysis). An example of a useful table could be one that reports the number of observations in each class, the means of the predictor variables you plan to use in your analysis and how many rows have missing data. \n",
    "4. Using only training data, visualize the data with at least one plot relevant to the analysis you plan to do (this is exploratory data analysis). An example of a useful visualization could be one that compares the distributions of each of the predictor variables you plan to use in your analysis."
   ]
  },
  {
   "cell_type": "code",
   "execution_count": 1,
   "id": "8b16d4a2-02a3-48ae-9872-d007c0796244",
   "metadata": {},
   "outputs": [
    {
     "name": "stderr",
     "output_type": "stream",
     "text": [
      "── \u001b[1mAttaching core tidyverse packages\u001b[22m ──────────────────────── tidyverse 2.0.0 ──\n",
      "\u001b[32m✔\u001b[39m \u001b[34mdplyr    \u001b[39m 1.1.3     \u001b[32m✔\u001b[39m \u001b[34mreadr    \u001b[39m 2.1.4\n",
      "\u001b[32m✔\u001b[39m \u001b[34mforcats  \u001b[39m 1.0.0     \u001b[32m✔\u001b[39m \u001b[34mstringr  \u001b[39m 1.5.0\n",
      "\u001b[32m✔\u001b[39m \u001b[34mggplot2  \u001b[39m 3.4.4     \u001b[32m✔\u001b[39m \u001b[34mtibble   \u001b[39m 3.2.1\n",
      "\u001b[32m✔\u001b[39m \u001b[34mlubridate\u001b[39m 1.9.3     \u001b[32m✔\u001b[39m \u001b[34mtidyr    \u001b[39m 1.3.0\n",
      "\u001b[32m✔\u001b[39m \u001b[34mpurrr    \u001b[39m 1.0.2     \n",
      "── \u001b[1mConflicts\u001b[22m ────────────────────────────────────────── tidyverse_conflicts() ──\n",
      "\u001b[31m✖\u001b[39m \u001b[34mdplyr\u001b[39m::\u001b[32mfilter()\u001b[39m masks \u001b[34mstats\u001b[39m::filter()\n",
      "\u001b[31m✖\u001b[39m \u001b[34mdplyr\u001b[39m::\u001b[32mlag()\u001b[39m    masks \u001b[34mstats\u001b[39m::lag()\n",
      "\u001b[36mℹ\u001b[39m Use the conflicted package (\u001b[3m\u001b[34m<http://conflicted.r-lib.org/>\u001b[39m\u001b[23m) to force all conflicts to become errors\n",
      "── \u001b[1mAttaching packages\u001b[22m ────────────────────────────────────── tidymodels 1.1.1 ──\n",
      "\n",
      "\u001b[32m✔\u001b[39m \u001b[34mbroom       \u001b[39m 1.0.5     \u001b[32m✔\u001b[39m \u001b[34mrsample     \u001b[39m 1.2.0\n",
      "\u001b[32m✔\u001b[39m \u001b[34mdials       \u001b[39m 1.2.0     \u001b[32m✔\u001b[39m \u001b[34mtune        \u001b[39m 1.1.2\n",
      "\u001b[32m✔\u001b[39m \u001b[34minfer       \u001b[39m 1.0.5     \u001b[32m✔\u001b[39m \u001b[34mworkflows   \u001b[39m 1.1.3\n",
      "\u001b[32m✔\u001b[39m \u001b[34mmodeldata   \u001b[39m 1.2.0     \u001b[32m✔\u001b[39m \u001b[34mworkflowsets\u001b[39m 1.0.1\n",
      "\u001b[32m✔\u001b[39m \u001b[34mparsnip     \u001b[39m 1.1.1     \u001b[32m✔\u001b[39m \u001b[34myardstick   \u001b[39m 1.2.0\n",
      "\u001b[32m✔\u001b[39m \u001b[34mrecipes     \u001b[39m 1.0.8     \n",
      "\n",
      "── \u001b[1mConflicts\u001b[22m ───────────────────────────────────────── tidymodels_conflicts() ──\n",
      "\u001b[31m✖\u001b[39m \u001b[34mscales\u001b[39m::\u001b[32mdiscard()\u001b[39m masks \u001b[34mpurrr\u001b[39m::discard()\n",
      "\u001b[31m✖\u001b[39m \u001b[34mdplyr\u001b[39m::\u001b[32mfilter()\u001b[39m   masks \u001b[34mstats\u001b[39m::filter()\n",
      "\u001b[31m✖\u001b[39m \u001b[34mrecipes\u001b[39m::\u001b[32mfixed()\u001b[39m  masks \u001b[34mstringr\u001b[39m::fixed()\n",
      "\u001b[31m✖\u001b[39m \u001b[34mdplyr\u001b[39m::\u001b[32mlag()\u001b[39m      masks \u001b[34mstats\u001b[39m::lag()\n",
      "\u001b[31m✖\u001b[39m \u001b[34myardstick\u001b[39m::\u001b[32mspec()\u001b[39m masks \u001b[34mreadr\u001b[39m::spec()\n",
      "\u001b[31m✖\u001b[39m \u001b[34mrecipes\u001b[39m::\u001b[32mstep()\u001b[39m   masks \u001b[34mstats\u001b[39m::step()\n",
      "\u001b[34m•\u001b[39m Use \u001b[32mtidymodels_prefer()\u001b[39m to resolve common conflicts.\n",
      "\n"
     ]
    }
   ],
   "source": [
    "library(tidyverse)\n",
    "library(readxl)\n",
    "library(repr)\n",
    "library(tidymodels)\n",
    "library(dplyr)"
   ]
  },
  {
   "cell_type": "code",
   "execution_count": 2,
   "id": "c0d039c9-fba4-4c0f-8b18-bd1396b8532c",
   "metadata": {},
   "outputs": [
    {
     "name": "stderr",
     "output_type": "stream",
     "text": [
      "\u001b[1mRows: \u001b[22m\u001b[34m13611\u001b[39m \u001b[1mColumns: \u001b[22m\u001b[34m17\u001b[39m\n",
      "\u001b[36m──\u001b[39m \u001b[1mColumn specification\u001b[22m \u001b[36m────────────────────────────────────────────────────────\u001b[39m\n",
      "\u001b[1mDelimiter:\u001b[22m \",\"\n",
      "\u001b[31mchr\u001b[39m  (1): Class\n",
      "\u001b[32mdbl\u001b[39m (16): Area, Perimeter, MajorAxisLength, MinorAxisLength, AspectRation, E...\n",
      "\n",
      "\u001b[36mℹ\u001b[39m Use `spec()` to retrieve the full column specification for this data.\n",
      "\u001b[36mℹ\u001b[39m Specify the column types or set `show_col_types = FALSE` to quiet this message.\n"
     ]
    },
    {
     "data": {
      "text/html": [
       "<table class=\"dataframe\">\n",
       "<caption>A tibble: 6 × 17</caption>\n",
       "<thead>\n",
       "\t<tr><th scope=col>Area</th><th scope=col>Perimeter</th><th scope=col>MajorAxisLength</th><th scope=col>MinorAxisLength</th><th scope=col>AspectRation</th><th scope=col>Eccentricity</th><th scope=col>ConvexArea</th><th scope=col>EquivDiameter</th><th scope=col>Extent</th><th scope=col>Solidity</th><th scope=col>roundness</th><th scope=col>Compactness</th><th scope=col>ShapeFactor1</th><th scope=col>ShapeFactor2</th><th scope=col>ShapeFactor3</th><th scope=col>ShapeFactor4</th><th scope=col>Class</th></tr>\n",
       "\t<tr><th scope=col>&lt;dbl&gt;</th><th scope=col>&lt;dbl&gt;</th><th scope=col>&lt;dbl&gt;</th><th scope=col>&lt;dbl&gt;</th><th scope=col>&lt;dbl&gt;</th><th scope=col>&lt;dbl&gt;</th><th scope=col>&lt;dbl&gt;</th><th scope=col>&lt;dbl&gt;</th><th scope=col>&lt;dbl&gt;</th><th scope=col>&lt;dbl&gt;</th><th scope=col>&lt;dbl&gt;</th><th scope=col>&lt;dbl&gt;</th><th scope=col>&lt;dbl&gt;</th><th scope=col>&lt;dbl&gt;</th><th scope=col>&lt;dbl&gt;</th><th scope=col>&lt;dbl&gt;</th><th scope=col>&lt;chr&gt;</th></tr>\n",
       "</thead>\n",
       "<tbody>\n",
       "\t<tr><td>28395</td><td>610.291</td><td>208.1781</td><td>173.8887</td><td>1.197191</td><td>0.5498122</td><td>28715</td><td>190.1411</td><td>0.7639225</td><td>0.9888560</td><td>0.9580271</td><td>0.9133578</td><td>0.007331506</td><td>0.003147289</td><td>0.8342224</td><td>0.9987239</td><td>SEKER</td></tr>\n",
       "\t<tr><td>28734</td><td>638.018</td><td>200.5248</td><td>182.7344</td><td>1.097356</td><td>0.4117853</td><td>29172</td><td>191.2728</td><td>0.7839681</td><td>0.9849856</td><td>0.8870336</td><td>0.9538608</td><td>0.006978659</td><td>0.003563624</td><td>0.9098505</td><td>0.9984303</td><td>SEKER</td></tr>\n",
       "\t<tr><td>29380</td><td>624.110</td><td>212.8261</td><td>175.9311</td><td>1.209713</td><td>0.5627273</td><td>29690</td><td>193.4109</td><td>0.7781132</td><td>0.9895588</td><td>0.9478495</td><td>0.9087742</td><td>0.007243912</td><td>0.003047733</td><td>0.8258706</td><td>0.9990661</td><td>SEKER</td></tr>\n",
       "\t<tr><td>30008</td><td>645.884</td><td>210.5580</td><td>182.5165</td><td>1.153638</td><td>0.4986160</td><td>30724</td><td>195.4671</td><td>0.7826813</td><td>0.9766957</td><td>0.9039364</td><td>0.9283288</td><td>0.007016729</td><td>0.003214562</td><td>0.8617944</td><td>0.9941988</td><td>SEKER</td></tr>\n",
       "\t<tr><td>30140</td><td>620.134</td><td>201.8479</td><td>190.2793</td><td>1.060798</td><td>0.3336797</td><td>30417</td><td>195.8965</td><td>0.7730980</td><td>0.9908932</td><td>0.9848771</td><td>0.9705155</td><td>0.006697010</td><td>0.003664972</td><td>0.9419004</td><td>0.9991661</td><td>SEKER</td></tr>\n",
       "\t<tr><td>30279</td><td>634.927</td><td>212.5606</td><td>181.5102</td><td>1.171067</td><td>0.5204007</td><td>30600</td><td>196.3477</td><td>0.7756885</td><td>0.9895098</td><td>0.9438518</td><td>0.9237260</td><td>0.007020065</td><td>0.003152779</td><td>0.8532696</td><td>0.9992358</td><td>SEKER</td></tr>\n",
       "</tbody>\n",
       "</table>\n"
      ],
      "text/latex": [
       "A tibble: 6 × 17\n",
       "\\begin{tabular}{lllllllllllllllll}\n",
       " Area & Perimeter & MajorAxisLength & MinorAxisLength & AspectRation & Eccentricity & ConvexArea & EquivDiameter & Extent & Solidity & roundness & Compactness & ShapeFactor1 & ShapeFactor2 & ShapeFactor3 & ShapeFactor4 & Class\\\\\n",
       " <dbl> & <dbl> & <dbl> & <dbl> & <dbl> & <dbl> & <dbl> & <dbl> & <dbl> & <dbl> & <dbl> & <dbl> & <dbl> & <dbl> & <dbl> & <dbl> & <chr>\\\\\n",
       "\\hline\n",
       "\t 28395 & 610.291 & 208.1781 & 173.8887 & 1.197191 & 0.5498122 & 28715 & 190.1411 & 0.7639225 & 0.9888560 & 0.9580271 & 0.9133578 & 0.007331506 & 0.003147289 & 0.8342224 & 0.9987239 & SEKER\\\\\n",
       "\t 28734 & 638.018 & 200.5248 & 182.7344 & 1.097356 & 0.4117853 & 29172 & 191.2728 & 0.7839681 & 0.9849856 & 0.8870336 & 0.9538608 & 0.006978659 & 0.003563624 & 0.9098505 & 0.9984303 & SEKER\\\\\n",
       "\t 29380 & 624.110 & 212.8261 & 175.9311 & 1.209713 & 0.5627273 & 29690 & 193.4109 & 0.7781132 & 0.9895588 & 0.9478495 & 0.9087742 & 0.007243912 & 0.003047733 & 0.8258706 & 0.9990661 & SEKER\\\\\n",
       "\t 30008 & 645.884 & 210.5580 & 182.5165 & 1.153638 & 0.4986160 & 30724 & 195.4671 & 0.7826813 & 0.9766957 & 0.9039364 & 0.9283288 & 0.007016729 & 0.003214562 & 0.8617944 & 0.9941988 & SEKER\\\\\n",
       "\t 30140 & 620.134 & 201.8479 & 190.2793 & 1.060798 & 0.3336797 & 30417 & 195.8965 & 0.7730980 & 0.9908932 & 0.9848771 & 0.9705155 & 0.006697010 & 0.003664972 & 0.9419004 & 0.9991661 & SEKER\\\\\n",
       "\t 30279 & 634.927 & 212.5606 & 181.5102 & 1.171067 & 0.5204007 & 30600 & 196.3477 & 0.7756885 & 0.9895098 & 0.9438518 & 0.9237260 & 0.007020065 & 0.003152779 & 0.8532696 & 0.9992358 & SEKER\\\\\n",
       "\\end{tabular}\n"
      ],
      "text/markdown": [
       "\n",
       "A tibble: 6 × 17\n",
       "\n",
       "| Area &lt;dbl&gt; | Perimeter &lt;dbl&gt; | MajorAxisLength &lt;dbl&gt; | MinorAxisLength &lt;dbl&gt; | AspectRation &lt;dbl&gt; | Eccentricity &lt;dbl&gt; | ConvexArea &lt;dbl&gt; | EquivDiameter &lt;dbl&gt; | Extent &lt;dbl&gt; | Solidity &lt;dbl&gt; | roundness &lt;dbl&gt; | Compactness &lt;dbl&gt; | ShapeFactor1 &lt;dbl&gt; | ShapeFactor2 &lt;dbl&gt; | ShapeFactor3 &lt;dbl&gt; | ShapeFactor4 &lt;dbl&gt; | Class &lt;chr&gt; |\n",
       "|---|---|---|---|---|---|---|---|---|---|---|---|---|---|---|---|---|\n",
       "| 28395 | 610.291 | 208.1781 | 173.8887 | 1.197191 | 0.5498122 | 28715 | 190.1411 | 0.7639225 | 0.9888560 | 0.9580271 | 0.9133578 | 0.007331506 | 0.003147289 | 0.8342224 | 0.9987239 | SEKER |\n",
       "| 28734 | 638.018 | 200.5248 | 182.7344 | 1.097356 | 0.4117853 | 29172 | 191.2728 | 0.7839681 | 0.9849856 | 0.8870336 | 0.9538608 | 0.006978659 | 0.003563624 | 0.9098505 | 0.9984303 | SEKER |\n",
       "| 29380 | 624.110 | 212.8261 | 175.9311 | 1.209713 | 0.5627273 | 29690 | 193.4109 | 0.7781132 | 0.9895588 | 0.9478495 | 0.9087742 | 0.007243912 | 0.003047733 | 0.8258706 | 0.9990661 | SEKER |\n",
       "| 30008 | 645.884 | 210.5580 | 182.5165 | 1.153638 | 0.4986160 | 30724 | 195.4671 | 0.7826813 | 0.9766957 | 0.9039364 | 0.9283288 | 0.007016729 | 0.003214562 | 0.8617944 | 0.9941988 | SEKER |\n",
       "| 30140 | 620.134 | 201.8479 | 190.2793 | 1.060798 | 0.3336797 | 30417 | 195.8965 | 0.7730980 | 0.9908932 | 0.9848771 | 0.9705155 | 0.006697010 | 0.003664972 | 0.9419004 | 0.9991661 | SEKER |\n",
       "| 30279 | 634.927 | 212.5606 | 181.5102 | 1.171067 | 0.5204007 | 30600 | 196.3477 | 0.7756885 | 0.9895098 | 0.9438518 | 0.9237260 | 0.007020065 | 0.003152779 | 0.8532696 | 0.9992358 | SEKER |\n",
       "\n"
      ],
      "text/plain": [
       "  Area  Perimeter MajorAxisLength MinorAxisLength AspectRation Eccentricity\n",
       "1 28395 610.291   208.1781        173.8887        1.197191     0.5498122   \n",
       "2 28734 638.018   200.5248        182.7344        1.097356     0.4117853   \n",
       "3 29380 624.110   212.8261        175.9311        1.209713     0.5627273   \n",
       "4 30008 645.884   210.5580        182.5165        1.153638     0.4986160   \n",
       "5 30140 620.134   201.8479        190.2793        1.060798     0.3336797   \n",
       "6 30279 634.927   212.5606        181.5102        1.171067     0.5204007   \n",
       "  ConvexArea EquivDiameter Extent    Solidity  roundness Compactness\n",
       "1 28715      190.1411      0.7639225 0.9888560 0.9580271 0.9133578  \n",
       "2 29172      191.2728      0.7839681 0.9849856 0.8870336 0.9538608  \n",
       "3 29690      193.4109      0.7781132 0.9895588 0.9478495 0.9087742  \n",
       "4 30724      195.4671      0.7826813 0.9766957 0.9039364 0.9283288  \n",
       "5 30417      195.8965      0.7730980 0.9908932 0.9848771 0.9705155  \n",
       "6 30600      196.3477      0.7756885 0.9895098 0.9438518 0.9237260  \n",
       "  ShapeFactor1 ShapeFactor2 ShapeFactor3 ShapeFactor4 Class\n",
       "1 0.007331506  0.003147289  0.8342224    0.9987239    SEKER\n",
       "2 0.006978659  0.003563624  0.9098505    0.9984303    SEKER\n",
       "3 0.007243912  0.003047733  0.8258706    0.9990661    SEKER\n",
       "4 0.007016729  0.003214562  0.8617944    0.9941988    SEKER\n",
       "5 0.006697010  0.003664972  0.9419004    0.9991661    SEKER\n",
       "6 0.007020065  0.003152779  0.8532696    0.9992358    SEKER"
      ]
     },
     "metadata": {},
     "output_type": "display_data"
    }
   ],
   "source": [
    "bean_data <- read_csv(\"https://raw.githubusercontent.com/Mark20050713/group_18/main/dry-bean-dataset.csv\")\n",
    "head(bean_data)"
   ]
  },
  {
   "cell_type": "markdown",
   "id": "61eed6cf-99e8-42d1-9c57-93b339c2e9cd",
   "metadata": {},
   "source": [
    "As we can see here, our dataset has all the requirements to be called a tidy data set, where each row is a single observation, each column is a single variable, and each cell contains only one value. However, because we are going to be using K-nearest neighbour classification in this project, we want the bean type column (Class) to be a factor, instead of characters, since there are only 7 categories possible (ie. the 7 bean types used in this data set)."
   ]
  },
  {
   "cell_type": "code",
   "execution_count": 3,
   "id": "52f92137-7375-410b-bbd2-8443cdda184b",
   "metadata": {},
   "outputs": [
    {
     "data": {
      "text/html": [
       "<table class=\"dataframe\">\n",
       "<caption>A tibble: 6 × 17</caption>\n",
       "<thead>\n",
       "\t<tr><th scope=col>Area</th><th scope=col>Perimeter</th><th scope=col>MajorAxisLength</th><th scope=col>MinorAxisLength</th><th scope=col>AspectRation</th><th scope=col>Eccentricity</th><th scope=col>ConvexArea</th><th scope=col>EquivDiameter</th><th scope=col>Extent</th><th scope=col>Solidity</th><th scope=col>roundness</th><th scope=col>Compactness</th><th scope=col>ShapeFactor1</th><th scope=col>ShapeFactor2</th><th scope=col>ShapeFactor3</th><th scope=col>ShapeFactor4</th><th scope=col>Class</th></tr>\n",
       "\t<tr><th scope=col>&lt;dbl&gt;</th><th scope=col>&lt;dbl&gt;</th><th scope=col>&lt;dbl&gt;</th><th scope=col>&lt;dbl&gt;</th><th scope=col>&lt;dbl&gt;</th><th scope=col>&lt;dbl&gt;</th><th scope=col>&lt;dbl&gt;</th><th scope=col>&lt;dbl&gt;</th><th scope=col>&lt;dbl&gt;</th><th scope=col>&lt;dbl&gt;</th><th scope=col>&lt;dbl&gt;</th><th scope=col>&lt;dbl&gt;</th><th scope=col>&lt;dbl&gt;</th><th scope=col>&lt;dbl&gt;</th><th scope=col>&lt;dbl&gt;</th><th scope=col>&lt;dbl&gt;</th><th scope=col>&lt;fct&gt;</th></tr>\n",
       "</thead>\n",
       "<tbody>\n",
       "\t<tr><td>28395</td><td>610.291</td><td>208.1781</td><td>173.8887</td><td>1.197191</td><td>0.5498122</td><td>28715</td><td>190.1411</td><td>0.7639225</td><td>0.9888560</td><td>0.9580271</td><td>0.9133578</td><td>0.007331506</td><td>0.003147289</td><td>0.8342224</td><td>0.9987239</td><td>SEKER</td></tr>\n",
       "\t<tr><td>28734</td><td>638.018</td><td>200.5248</td><td>182.7344</td><td>1.097356</td><td>0.4117853</td><td>29172</td><td>191.2728</td><td>0.7839681</td><td>0.9849856</td><td>0.8870336</td><td>0.9538608</td><td>0.006978659</td><td>0.003563624</td><td>0.9098505</td><td>0.9984303</td><td>SEKER</td></tr>\n",
       "\t<tr><td>29380</td><td>624.110</td><td>212.8261</td><td>175.9311</td><td>1.209713</td><td>0.5627273</td><td>29690</td><td>193.4109</td><td>0.7781132</td><td>0.9895588</td><td>0.9478495</td><td>0.9087742</td><td>0.007243912</td><td>0.003047733</td><td>0.8258706</td><td>0.9990661</td><td>SEKER</td></tr>\n",
       "\t<tr><td>30008</td><td>645.884</td><td>210.5580</td><td>182.5165</td><td>1.153638</td><td>0.4986160</td><td>30724</td><td>195.4671</td><td>0.7826813</td><td>0.9766957</td><td>0.9039364</td><td>0.9283288</td><td>0.007016729</td><td>0.003214562</td><td>0.8617944</td><td>0.9941988</td><td>SEKER</td></tr>\n",
       "\t<tr><td>30140</td><td>620.134</td><td>201.8479</td><td>190.2793</td><td>1.060798</td><td>0.3336797</td><td>30417</td><td>195.8965</td><td>0.7730980</td><td>0.9908932</td><td>0.9848771</td><td>0.9705155</td><td>0.006697010</td><td>0.003664972</td><td>0.9419004</td><td>0.9991661</td><td>SEKER</td></tr>\n",
       "\t<tr><td>30279</td><td>634.927</td><td>212.5606</td><td>181.5102</td><td>1.171067</td><td>0.5204007</td><td>30600</td><td>196.3477</td><td>0.7756885</td><td>0.9895098</td><td>0.9438518</td><td>0.9237260</td><td>0.007020065</td><td>0.003152779</td><td>0.8532696</td><td>0.9992358</td><td>SEKER</td></tr>\n",
       "</tbody>\n",
       "</table>\n"
      ],
      "text/latex": [
       "A tibble: 6 × 17\n",
       "\\begin{tabular}{lllllllllllllllll}\n",
       " Area & Perimeter & MajorAxisLength & MinorAxisLength & AspectRation & Eccentricity & ConvexArea & EquivDiameter & Extent & Solidity & roundness & Compactness & ShapeFactor1 & ShapeFactor2 & ShapeFactor3 & ShapeFactor4 & Class\\\\\n",
       " <dbl> & <dbl> & <dbl> & <dbl> & <dbl> & <dbl> & <dbl> & <dbl> & <dbl> & <dbl> & <dbl> & <dbl> & <dbl> & <dbl> & <dbl> & <dbl> & <fct>\\\\\n",
       "\\hline\n",
       "\t 28395 & 610.291 & 208.1781 & 173.8887 & 1.197191 & 0.5498122 & 28715 & 190.1411 & 0.7639225 & 0.9888560 & 0.9580271 & 0.9133578 & 0.007331506 & 0.003147289 & 0.8342224 & 0.9987239 & SEKER\\\\\n",
       "\t 28734 & 638.018 & 200.5248 & 182.7344 & 1.097356 & 0.4117853 & 29172 & 191.2728 & 0.7839681 & 0.9849856 & 0.8870336 & 0.9538608 & 0.006978659 & 0.003563624 & 0.9098505 & 0.9984303 & SEKER\\\\\n",
       "\t 29380 & 624.110 & 212.8261 & 175.9311 & 1.209713 & 0.5627273 & 29690 & 193.4109 & 0.7781132 & 0.9895588 & 0.9478495 & 0.9087742 & 0.007243912 & 0.003047733 & 0.8258706 & 0.9990661 & SEKER\\\\\n",
       "\t 30008 & 645.884 & 210.5580 & 182.5165 & 1.153638 & 0.4986160 & 30724 & 195.4671 & 0.7826813 & 0.9766957 & 0.9039364 & 0.9283288 & 0.007016729 & 0.003214562 & 0.8617944 & 0.9941988 & SEKER\\\\\n",
       "\t 30140 & 620.134 & 201.8479 & 190.2793 & 1.060798 & 0.3336797 & 30417 & 195.8965 & 0.7730980 & 0.9908932 & 0.9848771 & 0.9705155 & 0.006697010 & 0.003664972 & 0.9419004 & 0.9991661 & SEKER\\\\\n",
       "\t 30279 & 634.927 & 212.5606 & 181.5102 & 1.171067 & 0.5204007 & 30600 & 196.3477 & 0.7756885 & 0.9895098 & 0.9438518 & 0.9237260 & 0.007020065 & 0.003152779 & 0.8532696 & 0.9992358 & SEKER\\\\\n",
       "\\end{tabular}\n"
      ],
      "text/markdown": [
       "\n",
       "A tibble: 6 × 17\n",
       "\n",
       "| Area &lt;dbl&gt; | Perimeter &lt;dbl&gt; | MajorAxisLength &lt;dbl&gt; | MinorAxisLength &lt;dbl&gt; | AspectRation &lt;dbl&gt; | Eccentricity &lt;dbl&gt; | ConvexArea &lt;dbl&gt; | EquivDiameter &lt;dbl&gt; | Extent &lt;dbl&gt; | Solidity &lt;dbl&gt; | roundness &lt;dbl&gt; | Compactness &lt;dbl&gt; | ShapeFactor1 &lt;dbl&gt; | ShapeFactor2 &lt;dbl&gt; | ShapeFactor3 &lt;dbl&gt; | ShapeFactor4 &lt;dbl&gt; | Class &lt;fct&gt; |\n",
       "|---|---|---|---|---|---|---|---|---|---|---|---|---|---|---|---|---|\n",
       "| 28395 | 610.291 | 208.1781 | 173.8887 | 1.197191 | 0.5498122 | 28715 | 190.1411 | 0.7639225 | 0.9888560 | 0.9580271 | 0.9133578 | 0.007331506 | 0.003147289 | 0.8342224 | 0.9987239 | SEKER |\n",
       "| 28734 | 638.018 | 200.5248 | 182.7344 | 1.097356 | 0.4117853 | 29172 | 191.2728 | 0.7839681 | 0.9849856 | 0.8870336 | 0.9538608 | 0.006978659 | 0.003563624 | 0.9098505 | 0.9984303 | SEKER |\n",
       "| 29380 | 624.110 | 212.8261 | 175.9311 | 1.209713 | 0.5627273 | 29690 | 193.4109 | 0.7781132 | 0.9895588 | 0.9478495 | 0.9087742 | 0.007243912 | 0.003047733 | 0.8258706 | 0.9990661 | SEKER |\n",
       "| 30008 | 645.884 | 210.5580 | 182.5165 | 1.153638 | 0.4986160 | 30724 | 195.4671 | 0.7826813 | 0.9766957 | 0.9039364 | 0.9283288 | 0.007016729 | 0.003214562 | 0.8617944 | 0.9941988 | SEKER |\n",
       "| 30140 | 620.134 | 201.8479 | 190.2793 | 1.060798 | 0.3336797 | 30417 | 195.8965 | 0.7730980 | 0.9908932 | 0.9848771 | 0.9705155 | 0.006697010 | 0.003664972 | 0.9419004 | 0.9991661 | SEKER |\n",
       "| 30279 | 634.927 | 212.5606 | 181.5102 | 1.171067 | 0.5204007 | 30600 | 196.3477 | 0.7756885 | 0.9895098 | 0.9438518 | 0.9237260 | 0.007020065 | 0.003152779 | 0.8532696 | 0.9992358 | SEKER |\n",
       "\n"
      ],
      "text/plain": [
       "  Area  Perimeter MajorAxisLength MinorAxisLength AspectRation Eccentricity\n",
       "1 28395 610.291   208.1781        173.8887        1.197191     0.5498122   \n",
       "2 28734 638.018   200.5248        182.7344        1.097356     0.4117853   \n",
       "3 29380 624.110   212.8261        175.9311        1.209713     0.5627273   \n",
       "4 30008 645.884   210.5580        182.5165        1.153638     0.4986160   \n",
       "5 30140 620.134   201.8479        190.2793        1.060798     0.3336797   \n",
       "6 30279 634.927   212.5606        181.5102        1.171067     0.5204007   \n",
       "  ConvexArea EquivDiameter Extent    Solidity  roundness Compactness\n",
       "1 28715      190.1411      0.7639225 0.9888560 0.9580271 0.9133578  \n",
       "2 29172      191.2728      0.7839681 0.9849856 0.8870336 0.9538608  \n",
       "3 29690      193.4109      0.7781132 0.9895588 0.9478495 0.9087742  \n",
       "4 30724      195.4671      0.7826813 0.9766957 0.9039364 0.9283288  \n",
       "5 30417      195.8965      0.7730980 0.9908932 0.9848771 0.9705155  \n",
       "6 30600      196.3477      0.7756885 0.9895098 0.9438518 0.9237260  \n",
       "  ShapeFactor1 ShapeFactor2 ShapeFactor3 ShapeFactor4 Class\n",
       "1 0.007331506  0.003147289  0.8342224    0.9987239    SEKER\n",
       "2 0.006978659  0.003563624  0.9098505    0.9984303    SEKER\n",
       "3 0.007243912  0.003047733  0.8258706    0.9990661    SEKER\n",
       "4 0.007016729  0.003214562  0.8617944    0.9941988    SEKER\n",
       "5 0.006697010  0.003664972  0.9419004    0.9991661    SEKER\n",
       "6 0.007020065  0.003152779  0.8532696    0.9992358    SEKER"
      ]
     },
     "metadata": {},
     "output_type": "display_data"
    }
   ],
   "source": [
    "bean_data_tidy <- mutate(bean_data, Class = as_factor(Class))\n",
    "head(bean_data_tidy)"
   ]
  },
  {
   "cell_type": "markdown",
   "id": "5fdb9a29-4182-4e76-8a8b-092399ed1b3e",
   "metadata": {},
   "source": [
    "### Methods:\n",
    "We will use the \"Class\" column as the classifier in our KNN model since we are trying to predict what type of bean a new observation is. The class of the bean can be any of \"BARBUNYA\", \"SIRA\", \"HOROZ\", \"DERMASON\", \"CALI\", \"BOMBAY\", and \"SEKER\".\n",
    "\n",
    "We are also planning on using \"Area\" and \"AspectRation\". \"Area\" in this data set is determined as the area of a bean zone and the number of pixels within its boundaries. \"AspectRation\" is the ratio between \"MajorAxisLength\" (the height of the bean) and \"MinorAxisLength\" (the width of the bean). We thing these predictors might be useful in trying to classify the beans because they are all slightly different shapes and sizes. However, the \"Roundness\" column might also be useful because beans are 3D objects and their roundness might differ based on their bean type.\n",
    "\n",
    "To visualize our results, we will create a scatterplot that has a coloured prediction map visualization that distinguishes the classes predicted by the model as shaded regions on the plot based on two predictors."
   ]
  },
  {
   "cell_type": "markdown",
   "id": "1f018f5c-f4b4-40b0-a93c-e463ca2f06e0",
   "metadata": {},
   "source": [
    "### Expected outcomes and significance:\n",
    "1. What do you expect to find?\n",
    "2. What impact could such findings have?\n",
    "3. What future questions could this lead to?"
   ]
  }
 ],
 "metadata": {
  "kernelspec": {
   "display_name": "R",
   "language": "R",
   "name": "ir"
  },
  "language_info": {
   "codemirror_mode": "r",
   "file_extension": ".r",
   "mimetype": "text/x-r-source",
   "name": "R",
   "pygments_lexer": "r",
   "version": "4.3.1"
  }
 },
 "nbformat": 4,
 "nbformat_minor": 5
}
