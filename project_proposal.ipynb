{
 "cells": [
  {
   "cell_type": "markdown",
   "id": "52b1f1b5-67a3-4ee3-ae4d-ecc91d99c98c",
   "metadata": {},
   "source": [
    "# DSCI 100 Group Project Proposal\n",
    "Group 18: Brooklyn Wang, Mahir Patel, Ashmit Ghai, Mark Cao"
   ]
  },
  {
   "cell_type": "markdown",
   "id": "65f019b8-306a-4b8e-9a90-5c6077fe9f57",
   "metadata": {},
   "source": [
    "### Introduction:\n",
    "1. Provide some relevant background information on the topic so that someone unfamiliar with it will be prepared to understand the rest of your proposal\n",
    "2. Clearly state the question you will try to answer with your project\n",
    "3. Identify and describe the dataset that will be used to answer the question"
   ]
  },
  {
   "cell_type": "markdown",
   "id": "199dc254-3642-43a8-b2d2-147efe38cb8a",
   "metadata": {},
   "source": [
    "### Preliminary exploratory data analysis:\n",
    "1. Demonstrate that the dataset can be read from the web into R \n",
    "2. Clean and wrangle your data into a tidy format\n",
    "3. Using only training data, summarize the data in at least one table (this is exploratory data analysis). An example of a useful table could be one that reports the number of observations in each class, the means of the predictor variables you plan to use in your analysis and how many rows have missing data. \n",
    "4. Using only training data, visualize the data with at least one plot relevant to the analysis you plan to do (this is exploratory data analysis). An example of a useful visualization could be one that compares the distributions of each of the predictor variables you plan to use in your analysis."
   ]
  },
  {
   "cell_type": "markdown",
   "id": "9f3e20e6-4b77-41a5-aa8a-408a9559bcdd",
   "metadata": {},
   "source": [
    "### Methods:\n",
    "1. Explain how you will conduct either your data analysis and which variables/columns you will use. \\\n",
    "** Note - you do not need to use all variables/columns that exist in the raw data set. In fact, that's often not a good idea. \\\n",
    "   For each variable think: is this a useful variable for prediction? **\n",
    "3. Describe at least one way that you will visualize the results"
   ]
  },
  {
   "cell_type": "markdown",
   "id": "98cec2c0-7baf-4503-92b7-83e6cec20007",
   "metadata": {},
   "source": [
    "### Expected outcomes and significance:\n",
    "1. What do you expect to find?\n",
    "2. What impact could such findings have?\n",
    "3. What future questions could this lead to?"
   ]
  }
 ],
 "metadata": {
  "kernelspec": {
   "display_name": "Python 3 (ipykernel)",
   "language": "python",
   "name": "python3"
  },
  "language_info": {
   "codemirror_mode": {
    "name": "ipython",
    "version": 3
   },
   "file_extension": ".py",
   "mimetype": "text/x-python",
   "name": "python",
   "nbconvert_exporter": "python",
   "pygments_lexer": "ipython3",
   "version": "3.11.6"
  }
 },
 "nbformat": 4,
 "nbformat_minor": 5
}
